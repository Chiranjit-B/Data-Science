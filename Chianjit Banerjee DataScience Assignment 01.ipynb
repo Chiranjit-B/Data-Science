{
 "cells": [
  {
   "cell_type": "code",
   "execution_count": 1,
   "metadata": {
    "executionInfo": {
     "elapsed": 281,
     "status": "ok",
     "timestamp": 1706299043580,
     "user": {
      "displayName": "Silent Knight",
      "userId": "00540806718040306597"
     },
     "user_tz": 300
    },
    "id": "fnscrfkAL0u-"
   },
   "outputs": [],
   "source": [
    "import numpy as np"
   ]
  },
  {
   "cell_type": "code",
   "execution_count": 2,
   "metadata": {
    "colab": {
     "base_uri": "https://localhost:8080/"
    },
    "executionInfo": {
     "elapsed": 22,
     "status": "ok",
     "timestamp": 1706299043827,
     "user": {
      "displayName": "Silent Knight",
      "userId": "00540806718040306597"
     },
     "user_tz": 300
    },
    "id": "eBCb8HkxL2WO",
    "outputId": "447d3df3-c74e-4b77-ac43-51f8501ecc99"
   },
   "outputs": [
    {
     "name": "stdout",
     "output_type": "stream",
     "text": [
      "[[1 2 3]\n",
      " [4 5 6]]\n",
      "<class 'numpy.ndarray'>\n"
     ]
    }
   ],
   "source": [
    "#Convert a Python list x=[[1,2,3],[4,5,6]] into a Numpy array.\n",
    "x=[[1,2,3],[4,5,6]]\n",
    "a = np.array(x)\n",
    "print(a)\n",
    "print(type(a))"
   ]
  },
  {
   "cell_type": "code",
   "execution_count": 3,
   "metadata": {
    "colab": {
     "base_uri": "https://localhost:8080/"
    },
    "executionInfo": {
     "elapsed": 21,
     "status": "ok",
     "timestamp": 1706299043827,
     "user": {
      "displayName": "Silent Knight",
      "userId": "00540806718040306597"
     },
     "user_tz": 300
    },
    "id": "7RzYkcF9MNJ_",
    "outputId": "815bdc01-36c7-435d-dafd-04d3b6af1838"
   },
   "outputs": [
    {
     "name": "stdout",
     "output_type": "stream",
     "text": [
      "[[3 3]\n",
      " [4 5]\n",
      " [1 1]]\n",
      "note : in the above 6 is excluded, in case 6 is to be included : \n",
      "[[3 4]\n",
      " [5 6]\n",
      " [1 1]]\n"
     ]
    }
   ],
   "source": [
    "#Use one line to create a 3x2 2D array with shape of (3,2), filled with 1-6.\n",
    "#Note: if you use more than 1 line code to complete it, no point.\n",
    "\n",
    "rng = np.random.default_rng(seed = 1)\n",
    "arr = rng.integers(1,6,size = (3,2))\n",
    "print(arr)\n",
    "print(\"note : in the above 6 is excluded, in case 6 is to be included : \")\n",
    "rng = np.random.default_rng(seed = 1)\n",
    "arr = rng.integers(1,7,size = (3,2))\n",
    "print(arr)\n"
   ]
  },
  {
   "cell_type": "code",
   "execution_count": 4,
   "metadata": {
    "colab": {
     "base_uri": "https://localhost:8080/"
    },
    "executionInfo": {
     "elapsed": 19,
     "status": "ok",
     "timestamp": 1706299043827,
     "user": {
      "displayName": "Silent Knight",
      "userId": "00540806718040306597"
     },
     "user_tz": 300
    },
    "id": "vvr6kVGyMP9C",
    "outputId": "3b771233-6d07-4af5-8c71-4bda4fe76e29"
   },
   "outputs": [
    {
     "name": "stdout",
     "output_type": "stream",
     "text": [
      "mean :  51.0\n"
     ]
    }
   ],
   "source": [
    "#3). Use one line to create an array of 2, 4, 6, 8, ..., 98, 100; and find the mean value.\n",
    "m = np.arange(2,101,2).mean()\n",
    "print(\"mean : \",m)"
   ]
  },
  {
   "cell_type": "code",
   "execution_count": 5,
   "metadata": {
    "colab": {
     "base_uri": "https://localhost:8080/"
    },
    "executionInfo": {
     "elapsed": 18,
     "status": "ok",
     "timestamp": 1706299043827,
     "user": {
      "displayName": "Silent Knight",
      "userId": "00540806718040306597"
     },
     "user_tz": 300
    },
    "id": "LAjau44zMSMF",
    "outputId": "a53f36c3-cf03-4e9b-939b-8af0a2daae13"
   },
   "outputs": [
    {
     "name": "stdout",
     "output_type": "stream",
     "text": [
      "[[[0.94864945 0.31183145 0.42332645]\n",
      "  [0.82770259 0.40919914 0.54959369]\n",
      "  [0.02755911 0.75351311 0.53814331]]\n",
      "\n",
      " [[0.32973172 0.7884287  0.30319483]\n",
      "  [0.45349789 0.1340417  0.40311299]\n",
      "  [0.20345524 0.26231334 0.75036467]]\n",
      "\n",
      " [[0.28040876 0.48519097 0.9807372 ]\n",
      "  [0.96165719 0.72478994 0.54122686]\n",
      "  [0.2768912  0.16065201 0.96992541]]]\n",
      "min :  0.027559113243068367\n",
      "max :  0.9807371998012386\n"
     ]
    }
   ],
   "source": [
    "#4). Create an 3x3x3 array filled with arbitrary float numbers; and find the minimum and maximum values.\n",
    "\n",
    "b =  rng.random(size = (3,3,3))\n",
    "print(b)\n",
    "\n",
    "print(\"min : \",b.min())\n",
    "print(\"max : \",b.max())\n"
   ]
  },
  {
   "cell_type": "code",
   "execution_count": 6,
   "metadata": {
    "colab": {
     "base_uri": "https://localhost:8080/"
    },
    "executionInfo": {
     "elapsed": 16,
     "status": "ok",
     "timestamp": 1706299043827,
     "user": {
      "displayName": "Silent Knight",
      "userId": "00540806718040306597"
     },
     "user_tz": 300
    },
    "id": "xe78QE1UMVpH",
    "outputId": "794eb64d-3cd6-4f4e-b4bb-481aebac37d8"
   },
   "outputs": [
    {
     "name": "stdout",
     "output_type": "stream",
     "text": [
      "[[19 14 17 12]\n",
      " [21 11 13 17]\n",
      " [10 15 11 21]]\n",
      "[[20.21881684 20.04353588 10.61726521 16.66414186]\n",
      " [17.28957432 10.60169554 15.72793543 13.95476571]\n",
      " [12.59782818 19.56420079 15.05078668 11.2381973 ]]\n"
     ]
    }
   ],
   "source": [
    "#5). Create a 3x4 2D array filled with values from 10 to 21 (included).\n",
    "\n",
    "rng = np.random.default_rng(seed = 22)\n",
    "arr = rng.integers(10,22,size=(3,4))\n",
    "print(arr)\n",
    " # another variation possible :\n",
    "\n",
    "\n",
    "arr = rng.uniform(10,22,size=(3,4))\n",
    "print(arr)\n"
   ]
  },
  {
   "cell_type": "code",
   "execution_count": 7,
   "metadata": {
    "colab": {
     "base_uri": "https://localhost:8080/"
    },
    "executionInfo": {
     "elapsed": 16,
     "status": "ok",
     "timestamp": 1706299043828,
     "user": {
      "displayName": "Silent Knight",
      "userId": "00540806718040306597"
     },
     "user_tz": 300
    },
    "id": "rvqyHlWRMXvo",
    "outputId": "d88a27b1-1697-411f-e7bc-8e138cf559e1"
   },
   "outputs": [
    {
     "name": "stdout",
     "output_type": "stream",
     "text": [
      "[ 5  8 11 14 17 20 23 26 29 32]\n"
     ]
    }
   ],
   "source": [
    "#6). Create a numpy array of length 10, starting from 5 and has a step of 3 between consecutive numbers.\n",
    "arr = np.arange(5,5+(10*3),3)\n",
    "print(arr)"
   ]
  },
  {
   "cell_type": "code",
   "execution_count": 8,
   "metadata": {
    "colab": {
     "base_uri": "https://localhost:8080/"
    },
    "executionInfo": {
     "elapsed": 15,
     "status": "ok",
     "timestamp": 1706299043828,
     "user": {
      "displayName": "Silent Knight",
      "userId": "00540806718040306597"
     },
     "user_tz": 300
    },
    "id": "bOkE8NU8MZmf",
    "outputId": "4592f192-b027-4a4e-f2b2-191812fb5ce2"
   },
   "outputs": [
    {
     "name": "stdout",
     "output_type": "stream",
     "text": [
      "[[0.36907062 0.91484443 0.38959715 0.18733586 0.06673616 0.51217156\n",
      "  0.66755598 0.41280958 0.8483194  0.52448906]\n",
      " [0.79743431 0.5651524  0.5907989  0.41249658 0.10972016 0.70459029\n",
      "  0.85839343 0.72502816 0.41956598 0.08710748]\n",
      " [0.18578912 0.55126461 0.6588493  0.02637789 0.94292004 0.71462021\n",
      "  0.72238854 0.98817391 0.6208241  0.49242975]\n",
      " [0.22440346 0.68524315 0.69935244 0.95271664 0.93396932 0.49131383\n",
      "  0.85253565 0.95803477 0.41673202 0.60638143]\n",
      " [0.59347973 0.48045434 0.46904558 0.22156125 0.18759859 0.30837304\n",
      "  0.59205382 0.65949528 0.81936355 0.28693058]\n",
      " [0.51581704 0.45332777 0.17050484 0.98173608 0.33552109 0.690731\n",
      "  0.69145228 0.77085442 0.83338447 0.94645799]\n",
      " [0.32084921 0.6683858  0.31679656 0.29787818 0.792785   0.74951083\n",
      "  0.73189037 0.12280218 0.9672186  0.62830826]\n",
      " [0.46489151 0.91285937 0.11170843 0.30129381 0.14317208 0.32746575\n",
      "  0.78677869 0.14981876 0.76134091 0.59801706]\n",
      " [0.32959879 0.8497573  0.04250395 0.2435405  0.50023569 0.40023482\n",
      "  0.38475551 0.99717694 0.54903175 0.66115947]\n",
      " [0.45583872 0.19868025 0.10401576 0.75558544 0.72312477 0.99163507\n",
      "  0.25130513 0.39375189 0.3752554  0.57368747]]\n",
      "mermory size : 800 bytes\n"
     ]
    }
   ],
   "source": [
    "#7). Create a shape (10,10) array with arbitrary values; and find the memory size of this array.\n",
    "\n",
    "c = rng.random(size=(10,10))\n",
    "print(c)\n",
    "m = c.nbytes\n",
    "print(f\"mermory size : {m} bytes\")"
   ]
  },
  {
   "cell_type": "code",
   "execution_count": 9,
   "metadata": {
    "colab": {
     "base_uri": "https://localhost:8080/"
    },
    "executionInfo": {
     "elapsed": 13,
     "status": "ok",
     "timestamp": 1706299043828,
     "user": {
      "displayName": "Silent Knight",
      "userId": "00540806718040306597"
     },
     "user_tz": 300
    },
    "id": "5eip7IxNMber",
    "outputId": "f27ff7fc-9271-4e8c-fceb-b50c2d273905"
   },
   "outputs": [
    {
     "name": "stdout",
     "output_type": "stream",
     "text": [
      "numpy array created :  [0.04818348 0.79737981 0.73278585 0.09407911 0.71234825 0.33925691\n",
      " 0.43221011 0.20151398 0.68798465 0.57787109]\n",
      "\n",
      "5th element :  5.0\n",
      "\n",
      "after changes made : \n",
      " [0.04818348 0.79737981 0.73278585 0.09407911 5.         0.33925691\n",
      " 0.43221011 0.20151398 0.68798465 0.57787109]\n",
      "numpy array created :  [0.02293303 0.1495296  0.73238908 0.13441133 0.46681793 0.66912565\n",
      " 0.16968739 0.49785333 0.42019396 0.14039249]\n"
     ]
    }
   ],
   "source": [
    "#8). Create a 1-d array of size 10 with arbitrary values but the fifth value should be 5.\n",
    "a = rng.random(size=(10))\n",
    "print(\"numpy array created : \",a)\n",
    "a[4]=5\n",
    "print(\"\")\n",
    "print(\"5th element : \",a[4])\n",
    "print(\"\")\n",
    "print(\"after changes made : \\n\",a)\n",
    "\n",
    "# OR u can directly use : np.put() :\n",
    "\n",
    "a = rng.random(size=(10))\n",
    "print(\"numpy array created : \",a)\n",
    "\n",
    "np.put(a,4,5)\n",
    "#  basically we are replacing the index =4, i.e the 5th posn. with value = 5"
   ]
  },
  {
   "cell_type": "code",
   "execution_count": 10,
   "metadata": {
    "colab": {
     "base_uri": "https://localhost:8080/"
    },
    "executionInfo": {
     "elapsed": 12,
     "status": "ok",
     "timestamp": 1706299043828,
     "user": {
      "displayName": "Silent Knight",
      "userId": "00540806718040306597"
     },
     "user_tz": 300
    },
    "id": "_RKJJ9k4Mdkb",
    "outputId": "0c24b313-c517-4276-e68c-a56c913a13aa"
   },
   "outputs": [
    {
     "name": "stdout",
     "output_type": "stream",
     "text": [
      "actual array : [45 41 37 13 10 43 39 23 48 24]\n",
      "reversed numpy array : [24 48 23 39 43 10 13 37 41 45]\n"
     ]
    }
   ],
   "source": [
    "#9). Create an array with values ranging from 10 to 49 (included); and reverse it then (first element becomes last).\n",
    "\n",
    "arr = rng.integers(10,50,size=(10))\n",
    "print(f'actual array : {arr}')\n",
    "arr_rev =  np.flip(arr)\n",
    "print(f\"reversed numpy array : {arr_rev}\")\n"
   ]
  },
  {
   "cell_type": "code",
   "execution_count": 11,
   "metadata": {
    "colab": {
     "base_uri": "https://localhost:8080/"
    },
    "executionInfo": {
     "elapsed": 11,
     "status": "ok",
     "timestamp": 1706299043828,
     "user": {
      "displayName": "Silent Knight",
      "userId": "00540806718040306597"
     },
     "user_tz": 300
    },
    "id": "Sj0PXN1KMfbT",
    "outputId": "1e2434bb-194b-49b3-8460-b88c053fba81"
   },
   "outputs": [
    {
     "name": "stdout",
     "output_type": "stream",
     "text": [
      "1st array :  [[0.78742269 0.83366933]\n",
      " [0.54790446 0.9734491 ]\n",
      " [0.23683356 0.64692334]]\n",
      "2nd array :  [[0.78742269 0.83366933]\n",
      " [0.54790446 0.9734491 ]\n",
      " [0.23683356 0.64692334]]\n"
     ]
    }
   ],
   "source": [
    "#10). Create an array of shape (3, 2) with random values from a uniform distribution over [0, 1) and confirm you can get the same value when you run it next time.\n",
    "\n",
    "rng = np.random.default_rng(seed = 50)\n",
    "arr = rng.random(size = (3,2))\n",
    "print(\"1st array : \",arr)\n",
    "\n",
    "\n",
    "nrg = np.random.default_rng(seed = 50)\n",
    "brr = nrg.random(size = (3,2))\n",
    "print(\"2nd array : \",brr)\n",
    "\n",
    "# This occurs because i am using the same seed value\n",
    "\n",
    "\n"
   ]
  },
  {
   "cell_type": "code",
   "execution_count": 12,
   "metadata": {
    "colab": {
     "base_uri": "https://localhost:8080/"
    },
    "executionInfo": {
     "elapsed": 10,
     "status": "ok",
     "timestamp": 1706299043828,
     "user": {
      "displayName": "Silent Knight",
      "userId": "00540806718040306597"
     },
     "user_tz": 300
    },
    "id": "GgD6jeMOXsR5",
    "outputId": "6f2d1176-0467-43f1-b984-a6c0d479a86a"
   },
   "outputs": [
    {
     "name": "stdout",
     "output_type": "stream",
     "text": [
      "<class 'list'>\n"
     ]
    }
   ],
   "source": [
    "student_data = [[1, 15],[2, 11],[3, 11],[4, 20]]\n",
    "print(type(student_data))"
   ]
  },
  {
   "cell_type": "code",
   "execution_count": 13,
   "metadata": {
    "colab": {
     "base_uri": "https://localhost:8080/"
    },
    "executionInfo": {
     "elapsed": 191,
     "status": "ok",
     "timestamp": 1706299501874,
     "user": {
      "displayName": "Silent Knight",
      "userId": "00540806718040306597"
     },
     "user_tz": 300
    },
    "id": "z1yBQbSJniJ6",
    "outputId": "4f718357-92c5-4af3-f391-7b43649aa1a3"
   },
   "outputs": [
    {
     "name": "stdout",
     "output_type": "stream",
     "text": [
      "[0. 1. 2. 3. 4.]\n",
      "------------------------------\n",
      "[[0. 1. 2. 3. 4.]\n",
      " [0. 1. 2. 3. 4.]\n",
      " [0. 1. 2. 3. 4.]\n",
      " [0. 1. 2. 3. 4.]\n",
      " [0. 1. 2. 3. 4.]]\n"
     ]
    }
   ],
   "source": [
    "arr = np.array([0.,1.,2.,3.,4.])\n",
    "print(arr)\n",
    "matrix = np.tile(arr,(5,1))\n",
    "print(\"------------------------------\")\n",
    "print(matrix)"
   ]
  },
  {
   "cell_type": "code",
   "execution_count": 14,
   "metadata": {
    "colab": {
     "base_uri": "https://localhost:8080/"
    },
    "executionInfo": {
     "elapsed": 173,
     "status": "ok",
     "timestamp": 1706299783286,
     "user": {
      "displayName": "Silent Knight",
      "userId": "00540806718040306597"
     },
     "user_tz": 300
    },
    "id": "8o85yBtaX7e1",
    "outputId": "a27109c2-8541-42c2-e95a-6d98e1d82707"
   },
   "outputs": [
    {
     "name": "stdout",
     "output_type": "stream",
     "text": [
      "[[0. 0. 0. 0. 0. 0. 0.]\n",
      " [0. 1. 1. 1. 1. 1. 0.]\n",
      " [0. 1. 1. 1. 1. 1. 0.]\n",
      " [0. 1. 1. 1. 1. 1. 0.]\n",
      " [0. 1. 1. 1. 1. 1. 0.]\n",
      " [0. 1. 1. 1. 1. 1. 0.]\n",
      " [0. 0. 0. 0. 0. 0. 0.]]\n"
     ]
    }
   ],
   "source": [
    "import numpy as np\n",
    "\n",
    "# Original array\n",
    "org_arr = np.ones((5, 5))\n",
    "\n",
    "# Create a new array with zeros and insert the original array in the center\n",
    "new_arr = np.zeros((org_arr.shape[0] + 2, org_arr.shape[1] + 2))\n",
    "new_arr[1:-1, 1:-1] = org_arr\n",
    "\n",
    "print(new_arr)\n"
   ]
  },
  {
   "cell_type": "code",
   "execution_count": 15,
   "metadata": {
    "colab": {
     "base_uri": "https://localhost:8080/"
    },
    "executionInfo": {
     "elapsed": 155,
     "status": "ok",
     "timestamp": 1706303177475,
     "user": {
      "displayName": "Silent Knight",
      "userId": "00540806718040306597"
     },
     "user_tz": 300
    },
    "id": "fe1FqnSpaAHB",
    "outputId": "ff36d056-d2d1-47b0-bdd9-96995c9658b6"
   },
   "outputs": [
    {
     "name": "stdout",
     "output_type": "stream",
     "text": [
      "Original Diagonal Array:\n",
      "[[1 0 0 0 0]\n",
      " [0 2 0 0 0]\n",
      " [0 0 3 0 0]\n",
      " [0 0 0 4 0]\n",
      " [0 0 0 0 5]]\n",
      "\n",
      "Moved Below Diagonal:\n",
      "[[1 0 0 0 0]\n",
      " [0 2 0 0 0]\n",
      " [0 0 3 0 0]\n",
      " [0 0 0 4 0]\n",
      " [0 0 0 0 5]]\n"
     ]
    }
   ],
   "source": [
    "import numpy as np\n",
    "\n",
    "# Create a 5x5 array with values 1, 2, 3, 4, 5 on the diagonal\n",
    "diagonal_array = np.diag([1, 2, 3, 4, 5])\n",
    "\n",
    "# Move 1, 2, 3, 4 below the diagonal\n",
    "moved_below_diagonal = np.triu(diagonal_array, k=-1)\n",
    "\n",
    "# Display the results\n",
    "print(\"Original Diagonal Array:\")\n",
    "print(diagonal_array)\n",
    "print(\"\\nMoved Below Diagonal:\")\n",
    "print(moved_below_diagonal)\n",
    "\n"
   ]
  },
  {
   "cell_type": "code",
   "execution_count": 16,
   "metadata": {
    "colab": {
     "base_uri": "https://localhost:8080/"
    },
    "executionInfo": {
     "elapsed": 158,
     "status": "ok",
     "timestamp": 1706300215045,
     "user": {
      "displayName": "Silent Knight",
      "userId": "00540806718040306597"
     },
     "user_tz": 300
    },
    "id": "ZekGe3EJaB2i",
    "outputId": "6ba1e34d-0621-4e46-dbfc-52137e29fe6c"
   },
   "outputs": [
    {
     "name": "stdout",
     "output_type": "stream",
     "text": [
      "[[1. 1. 1. 1. 1. 1. 1. 1. 1. 1.]\n",
      " [1. 0. 0. 0. 0. 0. 0. 0. 0. 1.]\n",
      " [1. 0. 0. 0. 0. 0. 0. 0. 0. 1.]\n",
      " [1. 0. 0. 0. 0. 0. 0. 0. 0. 1.]\n",
      " [1. 0. 0. 0. 0. 0. 0. 0. 0. 1.]\n",
      " [1. 0. 0. 0. 0. 0. 0. 0. 0. 1.]\n",
      " [1. 0. 0. 0. 0. 0. 0. 0. 0. 1.]\n",
      " [1. 0. 0. 0. 0. 0. 0. 0. 0. 1.]\n",
      " [1. 0. 0. 0. 0. 0. 0. 0. 0. 1.]\n",
      " [1. 1. 1. 1. 1. 1. 1. 1. 1. 1.]]\n"
     ]
    }
   ],
   "source": [
    "import numpy as np\n",
    "\n",
    "# Create a 10x10 array filled with zeros\n",
    "array = np.zeros((10, 10))\n",
    "\n",
    "# Set the border elements to 1\n",
    "array[0, :] = 1\n",
    "array[-1, :] = 1\n",
    "array[:, 0] = 1\n",
    "array[:, -1] = 1\n",
    "\n",
    "print(array)\n"
   ]
  },
  {
   "cell_type": "code",
   "execution_count": 17,
   "metadata": {
    "colab": {
     "base_uri": "https://localhost:8080/"
    },
    "executionInfo": {
     "elapsed": 9,
     "status": "ok",
     "timestamp": 1706301953586,
     "user": {
      "displayName": "Silent Knight",
      "userId": "00540806718040306597"
     },
     "user_tz": 300
    },
    "id": "w3OqtZfPhYvr",
    "outputId": "1fa488e4-eec3-42e7-acd4-324284f4b8d8"
   },
   "outputs": [
    {
     "name": "stdout",
     "output_type": "stream",
     "text": [
      "Original Array:\n",
      "[8.34137214 1.66025691 7.07208922 1.01199352 5.985493  ]\n",
      "\n",
      "Method 1 - Integer Part:\n",
      "[8 1 7 1 5]\n",
      "\n",
      "Method 2 - Integer Part:\n",
      "[8 1 7 1 5]\n"
     ]
    }
   ],
   "source": [
    "import numpy as np\n",
    "\n",
    "# Generate a random array of positive numbers\n",
    "random_array = np.random.rand(5) * 10  # Adjust the size as needed\n",
    "\n",
    "# Method 1: Using numpy.floor()\n",
    "integer_part_method_1 = np.floor(random_array).astype(int)\n",
    "\n",
    "# Method 2: Using astype(int)\n",
    "integer_part_method_2 = random_array.astype(int)\n",
    "\n",
    "print(\"Original Array:\")\n",
    "print(random_array)\n",
    "print(\"\\nMethod 1 - Integer Part:\")\n",
    "print(integer_part_method_1)\n",
    "print(\"\\nMethod 2 - Integer Part:\")\n",
    "print(integer_part_method_2)\n"
   ]
  },
  {
   "cell_type": "code",
   "execution_count": 18,
   "metadata": {
    "colab": {
     "base_uri": "https://localhost:8080/"
    },
    "executionInfo": {
     "elapsed": 161,
     "status": "ok",
     "timestamp": 1706303228954,
     "user": {
      "displayName": "Silent Knight",
      "userId": "00540806718040306597"
     },
     "user_tz": 300
    },
    "id": "belN8SCYbw-N",
    "outputId": "a99d0989-6fd6-4af7-f762-ceeb5813a951"
   },
   "outputs": [
    {
     "name": "stdout",
     "output_type": "stream",
     "text": [
      "Index of the 5th repetition of 1: 8\n"
     ]
    }
   ],
   "source": [
    "x = [1, 2, 1, 1, 3, 4, 3, 1, 1, 2, 1, 1, 2]\n",
    "\n",
    "# Find the indices of all occurrences of 1\n",
    "indices_of_1 = [index for index, value in enumerate(x) if value == 1]\n",
    "\n",
    "# Check if there are at least 5 occurrences of 1\n",
    "if len(indices_of_1) >= 5:\n",
    "    # Get the index of the 5th occurrence of 1\n",
    "    fifth_occurrence_index = indices_of_1[4]\n",
    "    print(\"Index of the 5th repetition of 1:\", fifth_occurrence_index)\n",
    "else:\n",
    "    print(\"There are less than 5 occurrences of 1 in the array.\")"
   ]
  },
  {
   "cell_type": "code",
   "execution_count": 19,
   "metadata": {
    "colab": {
     "base_uri": "https://localhost:8080/"
    },
    "executionInfo": {
     "elapsed": 135,
     "status": "ok",
     "timestamp": 1706303234651,
     "user": {
      "displayName": "Silent Knight",
      "userId": "00540806718040306597"
     },
     "user_tz": 300
    },
    "id": "nizzcVHPfwKe",
    "outputId": "8d394d32-0b6b-4c83-d2fa-9112021cf163"
   },
   "outputs": [
    {
     "name": "stdout",
     "output_type": "stream",
     "text": [
      "Original Array:\n",
      "[1 2 3 4 5 6 7 8 9]\n",
      "\n",
      "Sub-arrays:\n",
      "Sub-array 1: [1 2 3 4]\n",
      "Sub-array 2: [5 6]\n",
      "Sub-array 3: [7 8 9]\n"
     ]
    }
   ],
   "source": [
    "import numpy as np\n",
    "\n",
    "# Create an array using np.arange\n",
    "original_array = np.arange(1, 10)\n",
    "\n",
    "# Split original_array into sub-arrays with lengths 4, 2, and 3\n",
    "sub_arrays = np.split(original_array, [4, 6])\n",
    "\n",
    "# Display the result\n",
    "print(\"Original Array:\")\n",
    "print(original_array)\n",
    "print(\"\\nSub-arrays:\")\n",
    "for i, sub_array in enumerate(sub_arrays, 1):\n",
    "    print(f\"Sub-array {i}: {sub_array}\")\n"
   ]
  },
  {
   "cell_type": "code",
   "execution_count": 20,
   "metadata": {
    "colab": {
     "base_uri": "https://localhost:8080/"
    },
    "executionInfo": {
     "elapsed": 134,
     "status": "ok",
     "timestamp": 1706302433624,
     "user": {
      "displayName": "Silent Knight",
      "userId": "00540806718040306597"
     },
     "user_tz": 300
    },
    "id": "swVlYD_HiE5I",
    "outputId": "8f1ef505-3a6f-408d-d6d3-ede45d66eb46"
   },
   "outputs": [
    {
     "name": "stdout",
     "output_type": "stream",
     "text": [
      "Original Array:\n",
      "[[ 0  1  2  3]\n",
      " [ 4  5  6  7]\n",
      " [ 8  9 10 11]\n",
      " [12 13 14 15]]\n",
      "\n",
      "Left Half:\n",
      "[[ 0  1]\n",
      " [ 4  5]\n",
      " [ 8  9]\n",
      " [12 13]]\n",
      "\n",
      "Right Half:\n",
      "[[ 2  3]\n",
      " [ 6  7]\n",
      " [10 11]\n",
      " [14 15]]\n"
     ]
    }
   ],
   "source": [
    "import numpy as np\n",
    "\n",
    "# Generate the 2D array using np.arange\n",
    "original_array = np.arange(16).reshape((4, 4))\n",
    "\n",
    "# Split the array into left and right halves\n",
    "left_half, right_half = np.split(original_array, [2], axis=1)\n",
    "\n",
    "# Display the result\n",
    "print(\"Original Array:\")\n",
    "print(original_array)\n",
    "print(\"\\nLeft Half:\")\n",
    "print(left_half)\n",
    "print(\"\\nRight Half:\")\n",
    "print(right_half)\n",
    "\n"
   ]
  },
  {
   "cell_type": "code",
   "execution_count": 21,
   "metadata": {
    "colab": {
     "base_uri": "https://localhost:8080/"
    },
    "executionInfo": {
     "elapsed": 138,
     "status": "ok",
     "timestamp": 1706302462568,
     "user": {
      "displayName": "Silent Knight",
      "userId": "00540806718040306597"
     },
     "user_tz": 300
    },
    "id": "xCFAOC8Ficpm",
    "outputId": "8c002720-bc4b-4c24-def0-9f9400332ba8"
   },
   "outputs": [
    {
     "name": "stdout",
     "output_type": "stream",
     "text": [
      "Original Array:\n",
      "[[ 5 10 15]\n",
      " [20 25 30]\n",
      " [35 40 45]]\n",
      "\n",
      "(1) Sub-array:\n",
      "[[10 15]\n",
      " [25 30]]\n",
      "\n",
      "(2) Individual Element Value:\n",
      "20\n"
     ]
    }
   ],
   "source": [
    "import numpy as np\n",
    "\n",
    "# Given 2D array\n",
    "original_array = np.array([[5, 10, 15], [20, 25, 30], [35, 40, 45]])\n",
    "\n",
    "# (1) Slicing to get the sub-array [[10, 15], [25, 30]]\n",
    "sub_array = original_array[0:2, 1:]\n",
    "\n",
    "# (2) Getting individual element value \"20\"\n",
    "element_value = original_array[1, 0]\n",
    "\n",
    "# Display the results\n",
    "print(\"Original Array:\")\n",
    "print(original_array)\n",
    "\n",
    "print(\"\\n(1) Sub-array:\")\n",
    "print(sub_array)\n",
    "\n",
    "print(\"\\n(2) Individual Element Value:\")\n",
    "print(element_value)\n"
   ]
  },
  {
   "cell_type": "code",
   "execution_count": 22,
   "metadata": {
    "colab": {
     "base_uri": "https://localhost:8080/"
    },
    "executionInfo": {
     "elapsed": 137,
     "status": "ok",
     "timestamp": 1706302529651,
     "user": {
      "displayName": "Silent Knight",
      "userId": "00540806718040306597"
     },
     "user_tz": 300
    },
    "id": "1ygc3PxUjVkE",
    "outputId": "40ac7662-d360-4215-d5d1-242d645ac6ad"
   },
   "outputs": [
    {
     "name": "stdout",
     "output_type": "stream",
     "text": [
      "Concatenated Array:\n",
      "[[ 1  2  3  7  8  9]\n",
      " [ 4  5  6 10 11 12]]\n"
     ]
    }
   ],
   "source": [
    "import numpy as np\n",
    "\n",
    "# Given arrays x and y\n",
    "x = np.array([[1, 2, 3], [4, 5, 6]])\n",
    "y = np.array([[7, 8, 9], [10, 11, 12]])\n",
    "\n",
    "# Concatenate x and y along the second axis\n",
    "result_array = np.concatenate((x, y), axis=1)\n",
    "\n",
    "# Alternative: result_array = np.hstack((x, y))\n",
    "\n",
    "# Display the result\n",
    "print(\"Concatenated Array:\")\n",
    "print(result_array)\n"
   ]
  },
  {
   "cell_type": "code",
   "execution_count": null,
   "metadata": {
    "id": "zfTPIIRmkoJD"
   },
   "outputs": [],
   "source": []
  },
  {
   "cell_type": "code",
   "execution_count": 23,
   "metadata": {
    "colab": {
     "base_uri": "https://localhost:8080/"
    },
    "executionInfo": {
     "elapsed": 166,
     "status": "ok",
     "timestamp": 1706302580596,
     "user": {
      "displayName": "Silent Knight",
      "userId": "00540806718040306597"
     },
     "user_tz": 300
    },
    "id": "vDxgrKTxjxJd",
    "outputId": "58c9d95a-8266-4683-9009-bdbf5e7a4fe6"
   },
   "outputs": [
    {
     "name": "stdout",
     "output_type": "stream",
     "text": [
      "Random 2D Array:\n",
      "[[7 4 8]\n",
      " [5 7 3]\n",
      " [7 8 5]\n",
      " [4 8 8]\n",
      " [3 6 5]]\n",
      "\n",
      "Min/Max Ratio for Each Row:\n",
      "[0.5        0.42857143 0.625      0.5        0.5       ]\n"
     ]
    }
   ],
   "source": [
    "import numpy as np\n",
    "\n",
    "# Set a random seed for reproducibility\n",
    "np.random.seed(42)\n",
    "\n",
    "# Generate a random 2D array with shape (5, 3) and values in the range [1, 10)\n",
    "random_array = np.random.randint(1, 10, size=(5, 3))\n",
    "\n",
    "# Compute the min/max ratio for each row\n",
    "min_max_ratio = np.min(random_array, axis=1) / np.max(random_array, axis=1)\n",
    "\n",
    "# Display the results\n",
    "print(\"Random 2D Array:\")\n",
    "print(random_array)\n",
    "print(\"\\nMin/Max Ratio for Each Row:\")\n",
    "print(min_max_ratio)\n"
   ]
  },
  {
   "cell_type": "code",
   "execution_count": 24,
   "metadata": {
    "colab": {
     "base_uri": "https://localhost:8080/"
    },
    "executionInfo": {
     "elapsed": 235,
     "status": "ok",
     "timestamp": 1706302807153,
     "user": {
      "displayName": "Silent Knight",
      "userId": "00540806718040306597"
     },
     "user_tz": 300
    },
    "id": "63g0rbOMkpSk",
    "outputId": "9045b789-6e1b-4cf5-9de4-fd00bce87715"
   },
   "outputs": [
    {
     "name": "stdout",
     "output_type": "stream",
     "text": [
      "Random 5x5 Matrix:\n",
      "[[0.96990985 0.83244264 0.21233911 0.18182497 0.18340451]\n",
      " [0.30424224 0.52475643 0.43194502 0.29122914 0.61185289]\n",
      " [0.13949386 0.29214465 0.36636184 0.45606998 0.78517596]\n",
      " [0.19967378 0.51423444 0.59241457 0.04645041 0.60754485]\n",
      " [0.17052412 0.06505159 0.94888554 0.96563203 0.80839735]]\n",
      "\n",
      "Normalized 5x5 Matrix:\n",
      "[[ 1.76878353  1.29186016 -0.85950282 -0.9653674  -0.95988739]\n",
      " [-0.54065768  0.22438564 -0.09761066 -0.58580483  0.52655471]\n",
      " [-1.11222928 -0.5826286  -0.32514236 -0.01391244  1.12787499]\n",
      " [-0.90344341  0.18788105  0.45911614 -1.43503059  0.51160855]\n",
      " [-1.0045741  -1.37049638  1.6958426   1.75394224  1.20843836]]\n"
     ]
    }
   ],
   "source": [
    "import numpy as np\n",
    "\n",
    "# Generate a random 5x5 matrix\n",
    "random_matrix = np.random.rand(5, 5)\n",
    "\n",
    "# Calculate mean and standard deviation\n",
    "mean_value = np.mean(random_matrix)\n",
    "std_deviation = np.std(random_matrix)\n",
    "\n",
    "# Normalize the matrix\n",
    "normalized_matrix = (random_matrix - mean_value) / std_deviation\n",
    "\n",
    "# Display the results\n",
    "print(\"Random 5x5 Matrix:\")\n",
    "print(random_matrix)\n",
    "print(\"\\nNormalized 5x5 Matrix:\")\n",
    "print(normalized_matrix)\n"
   ]
  },
  {
   "cell_type": "code",
   "execution_count": 25,
   "metadata": {
    "colab": {
     "base_uri": "https://localhost:8080/"
    },
    "executionInfo": {
     "elapsed": 178,
     "status": "ok",
     "timestamp": 1706302840113,
     "user": {
      "displayName": "Silent Knight",
      "userId": "00540806718040306597"
     },
     "user_tz": 300
    },
    "id": "53PEYWRXkprJ",
    "outputId": "07cba7b4-86f8-4909-d99a-17c7da1e0d53"
   },
   "outputs": [
    {
     "name": "stdout",
     "output_type": "stream",
     "text": [
      "[0 1 2 3 4 5 6 7 8 9]\n"
     ]
    }
   ],
   "source": [
    "import numpy as np\n",
    "\n",
    "# Generate the three arrays using numpy arange()\n",
    "arr1 = np.arange(3)\n",
    "arr2 = np.arange(3, 7)\n",
    "arr3 = np.arange(7, 10)\n",
    "\n",
    "# Concatenate the arrays into a single 1D array\n",
    "result_array = np.concatenate((arr1, arr2, arr3))\n",
    "\n",
    "# Display the result\n",
    "print(result_array)\n"
   ]
  },
  {
   "cell_type": "code",
   "execution_count": 26,
   "metadata": {
    "colab": {
     "base_uri": "https://localhost:8080/"
    },
    "executionInfo": {
     "elapsed": 156,
     "status": "ok",
     "timestamp": 1706302867604,
     "user": {
      "displayName": "Silent Knight",
      "userId": "00540806718040306597"
     },
     "user_tz": 300
    },
    "id": "mLzGAcqSkxuu",
    "outputId": "9f54d85e-d0cd-4870-e1aa-b8d05e7ac108"
   },
   "outputs": [
    {
     "name": "stdout",
     "output_type": "stream",
     "text": [
      "Original Array (aa):\n",
      "[51 92 14 71 60 20 82 86 74 74 87 99 23  2 21 52  1 87 29 37]\n",
      "\n",
      "Items between 15 and 55:\n",
      "[51 20 23 21 52 29 37]\n"
     ]
    }
   ],
   "source": [
    "import numpy as np\n",
    "\n",
    "# Set a random seed for reproducibility\n",
    "np.random.seed(42)\n",
    "\n",
    "# Generate a 1D array of uniformly distributed integers\n",
    "aa = np.random.randint(0, 100, size=20)\n",
    "\n",
    "# Extract items between 15 and 55 using a boolean mask\n",
    "result_items = aa[(aa >= 15) & (aa <= 55)]\n",
    "\n",
    "# Display the results\n",
    "print(\"Original Array (aa):\")\n",
    "print(aa)\n",
    "print(\"\\nItems between 15 and 55:\")\n",
    "print(result_items)\n"
   ]
  },
  {
   "cell_type": "code",
   "execution_count": 27,
   "metadata": {
    "colab": {
     "base_uri": "https://localhost:8080/"
    },
    "executionInfo": {
     "elapsed": 160,
     "status": "ok",
     "timestamp": 1706302892896,
     "user": {
      "displayName": "Silent Knight",
      "userId": "00540806718040306597"
     },
     "user_tz": 300
    },
    "id": "C_LTnmixk4cp",
    "outputId": "5c9185ef-4aa0-4587-f530-58b4fbcb7f00"
   },
   "outputs": [
    {
     "name": "stdout",
     "output_type": "stream",
     "text": [
      "Matching Positions:\n",
      "(array([1, 3, 5, 7], dtype=int64),)\n"
     ]
    }
   ],
   "source": [
    "import numpy as np\n",
    "\n",
    "a = np.array([1, 2, 3, 2, 3, 4, 3, 4, 5, 6])\n",
    "b = np.array([7, 2, 10, 2, 7, 4, 9, 4, 9, 8])\n",
    "\n",
    "# Get the positions where elements of a and b match\n",
    "matching_positions = np.where(a == b)\n",
    "\n",
    "# Display the result\n",
    "print(\"Matching Positions:\")\n",
    "print(matching_positions)\n"
   ]
  },
  {
   "cell_type": "code",
   "execution_count": 28,
   "metadata": {
    "colab": {
     "base_uri": "https://localhost:8080/"
    },
    "executionInfo": {
     "elapsed": 142,
     "status": "ok",
     "timestamp": 1706302920404,
     "user": {
      "displayName": "Silent Knight",
      "userId": "00540806718040306597"
     },
     "user_tz": 300
    },
    "id": "xC7Q0PHpk-nd",
    "outputId": "4f25bb07-7c58-4f2b-ce3d-9822d5593f56"
   },
   "outputs": [
    {
     "name": "stdout",
     "output_type": "stream",
     "text": [
      "Original Array:\n",
      "[ 0  1  2  3  4  5  6  7  8  9 10 11 12 13 14 15 16 17 18 19]\n",
      "\n",
      "Modified Array:\n",
      "[ 0 -1  2 -1  4 -1  6 -1  8 -1 10 -1 12 -1 14 -1 16 -1 18 -1]\n"
     ]
    }
   ],
   "source": [
    "import numpy as np\n",
    "\n",
    "# Create an array from 0 to 19\n",
    "original_array = np.arange(20)\n",
    "\n",
    "# Replace all odd numbers with -1\n",
    "modified_array = np.where(original_array % 2 != 0, -1, original_array)\n",
    "\n",
    "# Display the results\n",
    "print(\"Original Array:\")\n",
    "print(original_array)\n",
    "print(\"\\nModified Array:\")\n",
    "print(modified_array)\n"
   ]
  },
  {
   "cell_type": "code",
   "execution_count": 29,
   "metadata": {
    "colab": {
     "base_uri": "https://localhost:8080/"
    },
    "executionInfo": {
     "elapsed": 153,
     "status": "ok",
     "timestamp": 1706302954089,
     "user": {
      "displayName": "Silent Knight",
      "userId": "00540806718040306597"
     },
     "user_tz": 300
    },
    "id": "c4Mjhfj_lFVi",
    "outputId": "8275cbd5-bb64-46f3-bcd6-9877a951df5a"
   },
   "outputs": [
    {
     "name": "stdout",
     "output_type": "stream",
     "text": [
      "Original Four-Dimensional Array:\n",
      "[[[[6 3 7 4]\n",
      "   [6 9 2 6]\n",
      "   [7 4 3 7]]\n",
      "\n",
      "  [[7 2 5 4]\n",
      "   [1 7 5 1]\n",
      "   [4 0 9 5]]\n",
      "\n",
      "  [[8 0 9 2]\n",
      "   [6 3 8 2]\n",
      "   [4 2 6 4]]\n",
      "\n",
      "  [[8 6 1 3]\n",
      "   [8 1 9 8]\n",
      "   [9 4 1 3]]]\n",
      "\n",
      "\n",
      " [[[6 7 2 0]\n",
      "   [3 1 7 3]\n",
      "   [1 5 5 9]]\n",
      "\n",
      "  [[3 5 1 9]\n",
      "   [1 9 3 7]\n",
      "   [6 8 7 4]]\n",
      "\n",
      "  [[1 4 7 9]\n",
      "   [8 8 0 8]\n",
      "   [6 8 7 0]]\n",
      "\n",
      "  [[7 7 2 0]\n",
      "   [7 2 2 0]\n",
      "   [4 9 6 9]]]\n",
      "\n",
      "\n",
      " [[[8 6 8 7]\n",
      "   [1 0 6 6]\n",
      "   [7 4 2 7]]\n",
      "\n",
      "  [[5 2 0 2]\n",
      "   [4 2 0 4]\n",
      "   [9 6 6 8]]\n",
      "\n",
      "  [[9 9 2 6]\n",
      "   [0 3 3 4]\n",
      "   [6 6 3 6]]\n",
      "\n",
      "  [[2 5 1 9]\n",
      "   [8 4 5 3]\n",
      "   [9 6 8 6]]]]\n",
      "\n",
      "Sum Over the Last Two Axes:\n",
      "[[64 50 54 61]\n",
      " [49 63 66 55]\n",
      " [62 48 57 66]]\n"
     ]
    }
   ],
   "source": [
    "import numpy as np\n",
    "\n",
    "# Set a random seed for reproducibility\n",
    "np.random.seed(42)\n",
    "\n",
    "# Create a four-dimensional array with random values (0-9)\n",
    "four_dim_array = np.random.randint(0, 10, size=(3, 4, 3, 4))\n",
    "\n",
    "# Get the sum over the last two axes (axis=(2, 3))\n",
    "sum_over_last_two_axes = np.sum(four_dim_array, axis=(2, 3))\n",
    "\n",
    "# Display the results\n",
    "print(\"Original Four-Dimensional Array:\")\n",
    "print(four_dim_array)\n",
    "print(\"\\nSum Over the Last Two Axes:\")\n",
    "print(sum_over_last_two_axes)\n"
   ]
  }
 ],
 "metadata": {
  "colab": {
   "authorship_tag": "ABX9TyNGK159pDa8RjoDPLZWR8qi",
   "provenance": []
  },
  "kernelspec": {
   "display_name": "Python 3 (ipykernel)",
   "language": "python",
   "name": "python3"
  },
  "language_info": {
   "codemirror_mode": {
    "name": "ipython",
    "version": 3
   },
   "file_extension": ".py",
   "mimetype": "text/x-python",
   "name": "python",
   "nbconvert_exporter": "python",
   "pygments_lexer": "ipython3",
   "version": "3.11.4"
  }
 },
 "nbformat": 4,
 "nbformat_minor": 1
}
